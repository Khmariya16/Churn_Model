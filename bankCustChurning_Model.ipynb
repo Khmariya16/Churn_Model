{
  "nbformat": 4,
  "nbformat_minor": 0,
  "metadata": {
    "colab": {
      "provenance": [],
      "authorship_tag": "ABX9TyPzOLEub4tc9eA1E9i//GUt",
      "include_colab_link": true
    },
    "kernelspec": {
      "name": "python3",
      "display_name": "Python 3"
    },
    "language_info": {
      "name": "python"
    }
  },
  "cells": [
    {
      "cell_type": "markdown",
      "metadata": {
        "id": "view-in-github",
        "colab_type": "text"
      },
      "source": [
        "<a href=\"https://colab.research.google.com/github/Khmariya16/Churn_Model/blob/main/bankCustChurning_Model.ipynb\" target=\"_parent\"><img src=\"https://colab.research.google.com/assets/colab-badge.svg\" alt=\"Open In Colab\"/></a>"
      ]
    },
    {
      "cell_type": "markdown",
      "source": [
        "# ***Bank Customer Churn Prediction Using Machine Learning***\n",
        "**SOURCE**\n",
        "https://colab.research.google.com/drive/1DXv9WKPlNdfn30H_rcMOWfWiROlQwATm#scrollTo=1l5VwPYPcAGG\n",
        "\n",
        "# **OBJECTIVES**\n",
        "\n",
        "1.DATA ENCODING\n",
        "\n",
        " 2.FEATURE SCALING\n",
        "\n",
        "3.HANDLING IMBALANCE DATA\n",
        "\n",
        "   a. RANDOM UNDERSAMPLE DATA  \n",
        "   b. RANDOM OVERSAMPLE DATA\n",
        "\n",
        "4.SUPPORT VECTOR MACHINE CLASSIFIER\n",
        "\n",
        "5.GRID SEARCH FOR HYPERTUNNING\n",
        "\n",
        "# **INTRODUCTION**\n",
        "*Customer Churn* prediction means knowing which customers are likely to leave or unsubscribe from your service. For many companies, this is an important prediction. This is because acquiring new customers often costs more than retaining existing ones. Once you’ve identified customers at risk of churn, you need to know exactly what marketing efforts you should make with each customer to maximize their likelihood of staying.\n",
        "# **Benefits of Analyzing Customer Churn Prediction**\n",
        "***Increase profits*** -\n",
        " the ultimate goal of churn analysis is to reduce churn and increase profits\n",
        "\n",
        " ***Improve the customer experience*** -Understanding why customers churn, you can better understand their priorities, identify your weaknesses, and improve the overall customer experience.\n",
        "# **How does Customer Churn Prediction Work?**\n",
        "We first need to analyze the dataset and then fit that into the Machine learning Classification algorithm"
      ],
      "metadata": {
        "id": "1l5VwPYPcAGG"
      }
    },
    {
      "cell_type": "markdown",
      "source": [
        "# **IMPORT LIBRARY**"
      ],
      "metadata": {
        "id": "zhfi1_nuB1Sd"
      }
    },
    {
      "cell_type": "code",
      "execution_count": null,
      "metadata": {
        "id": "R0vYTnwqBqmZ"
      },
      "outputs": [],
      "source": [
        "import pandas as pd"
      ]
    },
    {
      "cell_type": "code",
      "source": [
        "import numpy as np"
      ],
      "metadata": {
        "id": "phQghOw6B0AD"
      },
      "execution_count": null,
      "outputs": []
    },
    {
      "cell_type": "code",
      "source": [
        "import matplotlib as plt"
      ],
      "metadata": {
        "id": "C0ayRu8-CO_h"
      },
      "execution_count": null,
      "outputs": []
    },
    {
      "cell_type": "code",
      "source": [
        "import seaborn as sns"
      ],
      "metadata": {
        "id": "Qp0ChVjJCPEc"
      },
      "execution_count": null,
      "outputs": []
    },
    {
      "cell_type": "markdown",
      "source": [
        "# **IMPORT DATASET**"
      ],
      "metadata": {
        "id": "krdIGKi6Ca0n"
      }
    },
    {
      "cell_type": "code",
      "source": [
        "df = pd.read_csv('https://github.com/YBIFoundation/Dataset/raw/main/Bank%20Churn%20Modelling.csv')"
      ],
      "metadata": {
        "id": "ecCw3oY6Cgq4"
      },
      "execution_count": null,
      "outputs": []
    },
    {
      "cell_type": "markdown",
      "source": [
        "# **DESCRIBE DATA**"
      ],
      "metadata": {
        "id": "dDfrJaaHEgxt"
      }
    },
    {
      "cell_type": "code",
      "source": [
        "df.head()"
      ],
      "metadata": {
        "id": "bdxeu5-DElPp"
      },
      "execution_count": null,
      "outputs": []
    },
    {
      "cell_type": "code",
      "source": [
        "df.info()"
      ],
      "metadata": {
        "id": "rTQIoiHmFGi2"
      },
      "execution_count": null,
      "outputs": []
    },
    {
      "cell_type": "code",
      "source": [
        "df.describe()"
      ],
      "metadata": {
        "id": "hd0dr1vWFLMZ"
      },
      "execution_count": null,
      "outputs": []
    },
    {
      "cell_type": "code",
      "source": [
        "df.duplicated('CustomerId').sum()"
      ],
      "metadata": {
        "id": "yQGnuEDBFZKM"
      },
      "execution_count": null,
      "outputs": []
    },
    {
      "cell_type": "code",
      "source": [
        "df = df.set_index('CustomerId')"
      ],
      "metadata": {
        "id": "IWbuz6HVFqde"
      },
      "execution_count": null,
      "outputs": []
    },
    {
      "cell_type": "code",
      "source": [
        "df.info()"
      ],
      "metadata": {
        "id": "9tlmDBGfGZzK"
      },
      "execution_count": null,
      "outputs": []
    },
    {
      "cell_type": "code",
      "source": [
        "df['Geography'].value_counts"
      ],
      "metadata": {
        "id": "h8JYsdsLGs_W"
      },
      "execution_count": null,
      "outputs": []
    },
    {
      "cell_type": "code",
      "source": [
        "df.replace({'Geography' : {'France' : 2, 'Germany' : 1, 'Spain' : 0}}, inplace=True)"
      ],
      "metadata": {
        "id": "KJygv8A9G_me"
      },
      "execution_count": null,
      "outputs": []
    },
    {
      "cell_type": "code",
      "source": [
        "df['Gender'].value_counts"
      ],
      "metadata": {
        "id": "e1zJTArTHqpd"
      },
      "execution_count": null,
      "outputs": []
    },
    {
      "cell_type": "code",
      "source": [
        "df.replace({'Gender': {'Male':0 , 'Female': 1}}, inplace=True)"
      ],
      "metadata": {
        "id": "YfHxlzckILEB"
      },
      "execution_count": null,
      "outputs": []
    },
    {
      "cell_type": "code",
      "source": [
        "df['Num Of Products'].value_counts"
      ],
      "metadata": {
        "id": "DhkAlP7TIcxS"
      },
      "execution_count": null,
      "outputs": []
    },
    {
      "cell_type": "code",
      "source": [
        "df.replace({'Num Of Products': {1:0 , 2:1 , 3:1, 4:1}})"
      ],
      "metadata": {
        "id": "Os6zbR0iGERJ"
      },
      "execution_count": null,
      "outputs": []
    },
    {
      "cell_type": "code",
      "source": [
        "df['Has Credit Card'].value_counts"
      ],
      "metadata": {
        "id": "vbg1nMsuGiqs"
      },
      "execution_count": null,
      "outputs": []
    },
    {
      "cell_type": "code",
      "source": [
        "df['Is Active Member'].value_counts"
      ],
      "metadata": {
        "id": "lfh5aNGoG-7O"
      },
      "execution_count": null,
      "outputs": []
    },
    {
      "cell_type": "code",
      "source": [
        "df.loc[(df['Balance']==0), 'Churn'].value_counts"
      ],
      "metadata": {
        "id": "t6GzuC6THUCW"
      },
      "execution_count": null,
      "outputs": []
    },
    {
      "cell_type": "code",
      "source": [
        "df['Zero Balance'] = np.where(df['Balance']>0,1,0)"
      ],
      "metadata": {
        "id": "kaj-nT-qIkVR"
      },
      "execution_count": null,
      "outputs": []
    },
    {
      "cell_type": "code",
      "source": [
        "df['Zero Balance'].hist()"
      ],
      "metadata": {
        "id": "RoPfgbm-I6b4"
      },
      "execution_count": null,
      "outputs": []
    },
    {
      "cell_type": "code",
      "source": [
        "df.groupby(['Churn','Geography']).count()"
      ],
      "metadata": {
        "id": "roR8Nz54JJWO"
      },
      "execution_count": null,
      "outputs": []
    },
    {
      "cell_type": "markdown",
      "source": [
        "# **Define Target Variable (y) and Feature Variables (X)**"
      ],
      "metadata": {
        "id": "vYmC-3O_Ji9n"
      }
    },
    {
      "cell_type": "code",
      "source": [
        "df.columns"
      ],
      "metadata": {
        "id": "6KGf3lRJJshb"
      },
      "execution_count": null,
      "outputs": []
    },
    {
      "cell_type": "code",
      "source": [
        "y = df['Churn']"
      ],
      "metadata": {
        "id": "t7ULCii7J8ZY"
      },
      "execution_count": null,
      "outputs": []
    },
    {
      "cell_type": "code",
      "source": [
        "x = df.drop(['Surname','Churn'] , axis=1)"
      ],
      "metadata": {
        "id": "LXxGnFmsKDrz"
      },
      "execution_count": null,
      "outputs": []
    },
    {
      "cell_type": "code",
      "source": [
        "x.shape , y.shape"
      ],
      "metadata": {
        "id": "hedrX7MJKQ7q"
      },
      "execution_count": null,
      "outputs": []
    },
    {
      "cell_type": "markdown",
      "source": [
        "# **RANDOM UNDER SAMPLING**"
      ],
      "metadata": {
        "id": "w0AH1Vc0LAsV"
      }
    },
    {
      "cell_type": "code",
      "source": [
        "from imblearn.under_sampling import RandomUnderSampler"
      ],
      "metadata": {
        "id": "fyh7XAqRLIEv"
      },
      "execution_count": null,
      "outputs": []
    },
    {
      "cell_type": "code",
      "source": [
        "rus = RandomUnderSampler(random_state=2529)"
      ],
      "metadata": {
        "id": "-H4R2ihQLx0b"
      },
      "execution_count": null,
      "outputs": []
    },
    {
      "cell_type": "code",
      "source": [
        "x_rus,y_rus =rus.fit_resample(x,y)"
      ],
      "metadata": {
        "id": "kCEOI66DL_RG"
      },
      "execution_count": null,
      "outputs": []
    },
    {
      "cell_type": "code",
      "source": [
        "x.shape, y.shape , x_rus.shape, y_rus.shape"
      ],
      "metadata": {
        "id": "la1HnY5YMiJB"
      },
      "execution_count": null,
      "outputs": []
    },
    {
      "cell_type": "code",
      "source": [
        "y.value_counts()"
      ],
      "metadata": {
        "id": "awgkBtDWMsNy"
      },
      "execution_count": null,
      "outputs": []
    },
    {
      "cell_type": "code",
      "source": [
        "y_rus.value_counts()"
      ],
      "metadata": {
        "id": "QgFS7RwmM4jB"
      },
      "execution_count": null,
      "outputs": []
    },
    {
      "cell_type": "code",
      "source": [
        "y_rus.plot(kind = 'hist')"
      ],
      "metadata": {
        "id": "DPC3-LF2NS2m"
      },
      "execution_count": null,
      "outputs": []
    },
    {
      "cell_type": "markdown",
      "source": [
        "# **RANDOM OVER SAMPLING**"
      ],
      "metadata": {
        "id": "8djrW5JZNdEz"
      }
    },
    {
      "cell_type": "code",
      "source": [
        "from imblearn.over_sampling import RandomOverSampler"
      ],
      "metadata": {
        "id": "PO-YcDj3Nhvz"
      },
      "execution_count": null,
      "outputs": []
    },
    {
      "cell_type": "code",
      "source": [
        "ros = RandomOverSampler(random_state=2529)"
      ],
      "metadata": {
        "id": "lPrxyenLNwK3"
      },
      "execution_count": null,
      "outputs": []
    },
    {
      "cell_type": "code",
      "source": [
        "x_ros,y_ros =ros.fit_resample(x,y)"
      ],
      "metadata": {
        "id": "HSCTM690N3-e"
      },
      "execution_count": null,
      "outputs": []
    },
    {
      "cell_type": "code",
      "source": [
        "x_ros.shape , y_ros.shape , x.shape , y.shape"
      ],
      "metadata": {
        "id": "jzK-mEguOKYW"
      },
      "execution_count": null,
      "outputs": []
    },
    {
      "cell_type": "code",
      "source": [
        "y.value_counts()"
      ],
      "metadata": {
        "id": "86YS-3yaOWOo"
      },
      "execution_count": null,
      "outputs": []
    },
    {
      "cell_type": "code",
      "source": [
        "y_ros.value_counts()"
      ],
      "metadata": {
        "id": "K5pBXrcFOaS-"
      },
      "execution_count": null,
      "outputs": []
    },
    {
      "cell_type": "code",
      "source": [
        "y_ros.plot(kind = 'hist')"
      ],
      "metadata": {
        "id": "zevVL02ZOg_q"
      },
      "execution_count": null,
      "outputs": []
    },
    {
      "cell_type": "markdown",
      "source": [
        "# **Train Test Split**"
      ],
      "metadata": {
        "id": "UXAo6QViO30C"
      }
    },
    {
      "cell_type": "code",
      "source": [
        "from sklearn.model_selection import train_test_split"
      ],
      "metadata": {
        "id": "we367OKcO8ps"
      },
      "execution_count": null,
      "outputs": []
    },
    {
      "cell_type": "markdown",
      "source": [
        "***split original data***"
      ],
      "metadata": {
        "id": "YkyPgFUbPOJI"
      }
    },
    {
      "cell_type": "code",
      "source": [
        "x_train , y_train , x_test, y_test = train_test_split(x, y,random_state=2529)"
      ],
      "metadata": {
        "id": "ZtN8d-59PLlU"
      },
      "execution_count": null,
      "outputs": []
    },
    {
      "cell_type": "markdown",
      "source": [
        "***split under sampling***"
      ],
      "metadata": {
        "id": "L9dac8HSP4Ks"
      }
    },
    {
      "cell_type": "code",
      "source": [
        "x_train_rus , y_train_rus , x_test_rus , y_test_rus = train_test_split(x_rus , y_rus )"
      ],
      "metadata": {
        "id": "DYcmJErmPtAu"
      },
      "execution_count": null,
      "outputs": []
    },
    {
      "cell_type": "markdown",
      "source": [
        "***split over sampling***"
      ],
      "metadata": {
        "id": "Ynrubs4YQg0Y"
      }
    },
    {
      "cell_type": "code",
      "source": [
        "x_train_ros ,y_train_ros , x_test_ros , y_test_ros = train_test_split(x_ros , y_ros)"
      ],
      "metadata": {
        "id": "seGhSf64QmgP"
      },
      "execution_count": null,
      "outputs": []
    },
    {
      "cell_type": "markdown",
      "source": [
        "# **STANDARDIZED FEATURES**"
      ],
      "metadata": {
        "id": "vafSZWFxSnps"
      }
    },
    {
      "cell_type": "code",
      "source": [
        "from sklearn.preprocessing import StandardScaler"
      ],
      "metadata": {
        "id": "uEUZDZmISuO-"
      },
      "execution_count": null,
      "outputs": []
    },
    {
      "cell_type": "code",
      "source": [
        "sc = StandardScaler()"
      ],
      "metadata": {
        "id": "uazUEXPIThwX"
      },
      "execution_count": null,
      "outputs": []
    },
    {
      "cell_type": "markdown",
      "source": [
        "# **STANDARDIZED ORIGINAL DATA**"
      ],
      "metadata": {
        "id": "r7sgwy7XTo5P"
      }
    },
    {
      "cell_type": "code",
      "source": [
        "x_train[['CreditScore','Age','Tenure','Balance' , 'Estimated Salary']]= sc.fit_transform(x_train[['CreditScore','Age','Tenure','Balance' , 'Estimated Salary']])"
      ],
      "metadata": {
        "id": "EUyYAMUcWzaf"
      },
      "execution_count": null,
      "outputs": []
    },
    {
      "cell_type": "code",
      "source": [
        "x_test[['CreditScore','Age','Tenure','Balance','Estimated Salary']]=sc.fit_transform(x_test[['CreditScore','Age','Tenure','Balance','Estimated Salary']])"
      ],
      "metadata": {
        "id": "BLy6RPBOLiDP"
      },
      "execution_count": null,
      "outputs": []
    },
    {
      "cell_type": "markdown",
      "source": [
        "# **STANDRADIZED RANDOM UNSAMPLING**"
      ],
      "metadata": {
        "id": "HXsIIuOLRyRa"
      }
    },
    {
      "cell_type": "code",
      "source": [
        "x_train_rus[['CreditScore','Age','Tenure','Balance','Estimated Salary']]=sc.fit_transform(x_train_rus[['CreditScore','Age','Tenure','Balance','Estimated Salary']])"
      ],
      "metadata": {
        "id": "8p2WUTnDSAjn"
      },
      "execution_count": null,
      "outputs": []
    },
    {
      "cell_type": "code",
      "source": [
        "x_test_rus[['CreditScore','Age','Tenure','Balance','Estimated Salary']]=sc.fit_transform(x_test_rus[['CreditScore','Age','Tenure','Balance','Estimated Salary']])"
      ],
      "metadata": {
        "id": "N34pR8PzSMPc"
      },
      "execution_count": null,
      "outputs": []
    },
    {
      "cell_type": "markdown",
      "source": [
        "# **STANDRADIZED OVERSAMPLING**"
      ],
      "metadata": {
        "id": "FzE1LV56SNqR"
      }
    },
    {
      "cell_type": "code",
      "source": [
        "x_train_ros[['CreditScore','Age','Tenure','Balance','Estimated Salary']]=sc.fit_transform(x_train_ros[['CreditScore','Age','Tenure','Balance','Estimated Salary']])"
      ],
      "metadata": {
        "id": "Uvf6PkGrSY7O"
      },
      "execution_count": null,
      "outputs": []
    },
    {
      "cell_type": "code",
      "source": [
        "x_test_ros[['CreditScore','Age','Tenure','Balance','Estimated Salary']]=sc.fit_transform(x_test_ros[['CreditScore','Age','Tenure','Balance','Estimated Salary']])"
      ],
      "metadata": {
        "id": "ymdZL1uuSfjp"
      },
      "execution_count": null,
      "outputs": []
    },
    {
      "cell_type": "markdown",
      "source": [
        "# **SUPPORT VECTOR MACHINE CLASSIFIER**"
      ],
      "metadata": {
        "id": "FRQAs54QSj9V"
      }
    },
    {
      "cell_type": "code",
      "source": [
        "from sklearn.svm import SVC"
      ],
      "metadata": {
        "id": "PJ68NDbJSpcB"
      },
      "execution_count": null,
      "outputs": []
    },
    {
      "cell_type": "code",
      "source": [
        "svc = SVC()"
      ],
      "metadata": {
        "id": "-HYt9DI-Sy--"
      },
      "execution_count": null,
      "outputs": []
    },
    {
      "cell_type": "code",
      "source": [
        "svc.fit(x_train,y_train)"
      ],
      "metadata": {
        "id": "iWvU27UKS4F-"
      },
      "execution_count": null,
      "outputs": []
    },
    {
      "cell_type": "markdown",
      "source": [
        "# **DATA PREDICTION**"
      ],
      "metadata": {
        "id": "oMnw3sw4S_rg"
      }
    },
    {
      "cell_type": "code",
      "source": [
        "y_pred=svc.predict(x_test)"
      ],
      "metadata": {
        "id": "Jyvrv5m3S4Kl"
      },
      "execution_count": null,
      "outputs": []
    },
    {
      "cell_type": "code",
      "source": [
        "y_pred"
      ],
      "metadata": {
        "id": "ANLphPgsS4N5"
      },
      "execution_count": null,
      "outputs": []
    },
    {
      "cell_type": "markdown",
      "source": [
        "# **MODEL ACCURACY**"
      ],
      "metadata": {
        "id": "m_-D3e8kTbMg"
      }
    },
    {
      "cell_type": "code",
      "source": [
        "from sklearn.metrics import confusion_matrix, classification_report"
      ],
      "metadata": {
        "id": "ZWrCW-5sThcc"
      },
      "execution_count": null,
      "outputs": []
    },
    {
      "cell_type": "code",
      "source": [
        "confusion_matrix(y_test,y_pred)"
      ],
      "metadata": {
        "id": "vOfEK8MWTmHV"
      },
      "execution_count": null,
      "outputs": []
    },
    {
      "cell_type": "code",
      "source": [
        "print (classification_report(y_test,y_pred))"
      ],
      "metadata": {
        "id": "uZyeSVBYTmOC"
      },
      "execution_count": null,
      "outputs": []
    },
    {
      "cell_type": "markdown",
      "source": [
        "# **HYPERPARAMETER TUNING**"
      ],
      "metadata": {
        "id": "8Nx0tfM3T17R"
      }
    },
    {
      "cell_type": "code",
      "source": [
        "from sklearn.model_selection import GridSearchCV"
      ],
      "metadata": {
        "id": "7yImDYirTmUk"
      },
      "execution_count": null,
      "outputs": []
    },
    {
      "cell_type": "code",
      "source": [
        "param_grid={'C':[0.1,1,10],\n",
        "            'gamma':[1,0.1,0.01],\n",
        "            'kernel':['rbf'],\n",
        "            'class_weight':['Balanced']}"
      ],
      "metadata": {
        "id": "CKDxGj_eUAxN"
      },
      "execution_count": null,
      "outputs": []
    },
    {
      "cell_type": "code",
      "source": [
        "grid=GridSearchCV(SVC(),param_grid,refit=True,verbose=2,cv=2)"
      ],
      "metadata": {
        "id": "2CzF-bAwUA74"
      },
      "execution_count": null,
      "outputs": []
    },
    {
      "cell_type": "code",
      "source": [
        "grid.fit(x_train,y_train)"
      ],
      "metadata": {
        "id": "h44foHpfUBE_"
      },
      "execution_count": null,
      "outputs": []
    },
    {
      "cell_type": "code",
      "source": [
        "print(grid.best_estimator_)"
      ],
      "metadata": {
        "id": "N3hYTD97UJiK"
      },
      "execution_count": null,
      "outputs": []
    },
    {
      "cell_type": "code",
      "source": [
        "grid_predictions=grid.predict(x_test)"
      ],
      "metadata": {
        "id": "grfIXmaNUNeg"
      },
      "execution_count": null,
      "outputs": []
    },
    {
      "cell_type": "code",
      "source": [
        "confusion_matrix(y_test,grid_predictions)"
      ],
      "metadata": {
        "id": "atSlMhnfUQr7"
      },
      "execution_count": null,
      "outputs": []
    },
    {
      "cell_type": "code",
      "source": [
        "print(classification_report(y_test,grid_predictions))"
      ],
      "metadata": {
        "id": "xh-YKmKLUQ5g"
      },
      "execution_count": null,
      "outputs": []
    },
    {
      "cell_type": "markdown",
      "source": [
        "# **MODEL WITH RANDOM UNDER SMAPLING**"
      ],
      "metadata": {
        "id": "Aw1xd24bUUfi"
      }
    },
    {
      "cell_type": "code",
      "source": [
        "svc_rus=SVC()"
      ],
      "metadata": {
        "id": "fZxncByUUY3n"
      },
      "execution_count": null,
      "outputs": []
    },
    {
      "cell_type": "code",
      "source": [
        "svc.fit(x_train_rus,y_train_rus)"
      ],
      "metadata": {
        "id": "mzhyKRJ2UbzV"
      },
      "execution_count": null,
      "outputs": []
    },
    {
      "cell_type": "code",
      "source": [
        "y_pred_rus=svc_rus.fit(x_test_rus)"
      ],
      "metadata": {
        "id": "uayXR0s-Ub6y"
      },
      "execution_count": null,
      "outputs": []
    },
    {
      "cell_type": "markdown",
      "source": [
        "# **MODEL ACCURACY**"
      ],
      "metadata": {
        "id": "SBmgpJjdUmAO"
      }
    },
    {
      "cell_type": "code",
      "source": [
        "confusion_matrix(y_test_rus,y_pred_rus)"
      ],
      "metadata": {
        "id": "ZjaLIl9-UcBL"
      },
      "execution_count": null,
      "outputs": []
    },
    {
      "cell_type": "code",
      "source": [
        "print(classification_report(y_test_rus,y_pred_rus))"
      ],
      "metadata": {
        "id": "3wiDif1YUcHq"
      },
      "execution_count": null,
      "outputs": []
    },
    {
      "cell_type": "markdown",
      "source": [
        "***HYPERPAAMETER TUNING ***"
      ],
      "metadata": {
        "id": "JVzRX7R1Uwmi"
      }
    },
    {
      "cell_type": "code",
      "source": [
        "param_grid={'C':[0.1,1,10],\n",
        "            'gamma':[1,0.1,0.01],\n",
        "            'kernel':['rbf'],\n",
        "            'class_weight':['Balanced']}"
      ],
      "metadata": {
        "id": "123EeB-uUcQO"
      },
      "execution_count": null,
      "outputs": []
    },
    {
      "cell_type": "code",
      "source": [
        "grid=GridSearchCV(SVC(),param_grid,refit=True,verbose=2,cv=2)"
      ],
      "metadata": {
        "id": "DtmtM7LpVBo1"
      },
      "execution_count": null,
      "outputs": []
    },
    {
      "cell_type": "code",
      "source": [
        "grid.fit(x_train_rus,y_train_rus)"
      ],
      "metadata": {
        "id": "bAc5h8ftVGJg"
      },
      "execution_count": null,
      "outputs": []
    },
    {
      "cell_type": "code",
      "source": [
        "print(grid_rus.best_estimator_)"
      ],
      "metadata": {
        "id": "wM5xC2X8VLYI"
      },
      "execution_count": null,
      "outputs": []
    },
    {
      "cell_type": "code",
      "source": [
        "grid_rus_predictions=grid_rus.predict(x_testr_rus)"
      ],
      "metadata": {
        "id": "8aAjcRs_VSlU"
      },
      "execution_count": null,
      "outputs": []
    },
    {
      "cell_type": "code",
      "source": [
        "confusion_matrix(y_test_rus,grid_predictions_rus)"
      ],
      "metadata": {
        "id": "BA-3iM1NVWhP"
      },
      "execution_count": null,
      "outputs": []
    },
    {
      "cell_type": "code",
      "source": [
        "print(classification_report(y_test_rus,grid_predictions_rus))"
      ],
      "metadata": {
        "id": "J2zD2CmuVcLc"
      },
      "execution_count": null,
      "outputs": []
    },
    {
      "cell_type": "markdown",
      "source": [
        "# **MODEL OVER SAMPLING**"
      ],
      "metadata": {
        "id": "ZHLMwZUqZXB3"
      }
    },
    {
      "cell_type": "code",
      "source": [
        "svc_ros = SVC()"
      ],
      "metadata": {
        "id": "9_CY3oZCZazJ"
      },
      "execution_count": null,
      "outputs": []
    },
    {
      "cell_type": "code",
      "source": [
        "svc_ros.fit(x_tarin_ros,y_train_ros)"
      ],
      "metadata": {
        "id": "YnTcKw0mZk3S"
      },
      "execution_count": null,
      "outputs": []
    },
    {
      "cell_type": "code",
      "source": [
        "y_pred_ros=svc_ros.fit(x_test_ros)"
      ],
      "metadata": {
        "id": "NwpJQRcfZlIQ"
      },
      "execution_count": null,
      "outputs": []
    },
    {
      "cell_type": "markdown",
      "source": [
        "***MODEL ACCURACY***"
      ],
      "metadata": {
        "id": "fMsMxcerZqY-"
      }
    },
    {
      "cell_type": "code",
      "source": [
        "confusion_matrix(y_test_ros,y_pred_ros)"
      ],
      "metadata": {
        "id": "zVtoVoccZlSz"
      },
      "execution_count": null,
      "outputs": []
    },
    {
      "cell_type": "code",
      "source": [
        "print(classification_report(y_test_ros,y_pred_ros))"
      ],
      "metadata": {
        "id": "pOTBPC_jZ2PR"
      },
      "execution_count": null,
      "outputs": []
    },
    {
      "cell_type": "code",
      "source": [
        "param_grid={'C':[0.1,1,10],\n",
        "            'gamma':[1,0.1,0.01],\n",
        "            'kernel':['rbf'],\n",
        "            'class_weight':['Balanced']}"
      ],
      "metadata": {
        "id": "zS-rBilRZ4a5"
      },
      "execution_count": null,
      "outputs": []
    },
    {
      "cell_type": "code",
      "source": [
        "grid=GridSearchCV(SVC(),param_grid,refit=True,verbose=2,cv=2)"
      ],
      "metadata": {
        "id": "zy-HdEFSZ-P2"
      },
      "execution_count": null,
      "outputs": []
    },
    {
      "cell_type": "code",
      "source": [
        "grid.fit(x_train_ros,y_train_ros)"
      ],
      "metadata": {
        "id": "OlaCXwmcaAmJ"
      },
      "execution_count": null,
      "outputs": []
    },
    {
      "cell_type": "code",
      "source": [
        "print(grid_ros.best_estimator_)"
      ],
      "metadata": {
        "id": "R23QkE2VaDvk"
      },
      "execution_count": null,
      "outputs": []
    },
    {
      "cell_type": "code",
      "source": [
        "grid_ros_predictions=grid_rus.predict(x_testr_ros)"
      ],
      "metadata": {
        "id": "rN4IBtr4aGVC"
      },
      "execution_count": null,
      "outputs": []
    },
    {
      "cell_type": "code",
      "source": [
        "confusion_matrix(y_test_ros,grid_predictions_ros)"
      ],
      "metadata": {
        "id": "tZuw7WvOaJVN"
      },
      "execution_count": null,
      "outputs": []
    },
    {
      "cell_type": "code",
      "source": [
        "print(classification_report(y_test_ros,grid_predictions_ros))"
      ],
      "metadata": {
        "id": "soY9K6jzaL6C"
      },
      "execution_count": null,
      "outputs": []
    }
  ]
}